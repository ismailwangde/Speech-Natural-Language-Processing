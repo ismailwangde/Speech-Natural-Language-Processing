import re
import datetime

def extract_and_format_date(text):
    """Extracts and formats dates from various text formats.

    Args:
        text: The input text containing the date.

    Returns:
        The extracted date in dd/mm/yyyy format, or None if no date is found.
    """

    # Regular expressions for common date formats
    date_patterns = [
        r'(\d{2}/\d{2}/\d{4})',  # dd/mm/yyyy
        r'(\d{2}/\d{2}/\d{2})',  # dd/mm/yy
        r'(\d{4}/\d{2}/\d{2})',  # yyyy/mm/dd
        r'(\d{2}-\d{2}-\d{4})',  # dd-mm-yyyy
        r'(\d{4}-\d{2}-\d{2})',  # yyyy-mm-dd
        r'(\d{2}-\d{2}-\d{2})',  # dd-mm-yy
        r'(\d{2}\.\d{2}\.\d{4})', # dd.mm.yyyy
        r'(\d{2}\.\d{2}\.\d{2})', # dd.mm.yy
        r'(\d{1,2})(?:st|nd|rd|th)? (\w+) (\d{4})',  # e.g., 5th March 2023
        r'(\d{1,2})(?:st|nd|rd|th)? (\w+), (\d{4})',  # e.g., 5th March, 2023
        r'(\d{1,2})(?:st|nd|rd|th)? of (\w+) (\d{4})',  # e.g., 5th of March 2023
        r'(\w+) (\d{1,2}), (\d{4})',  # e.g., March 5, 2023
        r'(\w+) (\d{1,2})(?:st|nd|rd|th)?, (\d{4})',  # e.g., March 5, 2023
        r'(\d{1,2})(?:st|nd|rd|th)? (\w{3}) (\d{4})',  # e.g., 5th Mar 2023
    ]

    for pattern in date_patterns:
        match = re.search(pattern, text)
        if match:
            try:
                # Handle matched date strings based on detected pattern
                if '/' in match.group(0):  # dd/mm/yyyy or yyyy/mm/dd
                    date_str = match.group(0)
                    if len(date_str) == 10:  # dd/mm/yyyy
                        date_obj = datetime.datetime.strptime(date_str, '%d/%m/%Y')
                    elif len(date_str) == 8:  # dd/mm/yy
                        date_obj = datetime.datetime.strptime(date_str, '%d/%m/%y')
                elif '-' in match.group(0):  # dd-mm-yyyy or yyyy-mm-dd
                    date_str = match.group(0)
                    if len(date_str) == 10:  # dd-mm-yyyy
                        date_obj = datetime.datetime.strptime(date_str, '%d-%m-%Y')
                    elif len(date_str) == 8:  # dd-mm-yy
                        date_obj = datetime.datetime.strptime(date_str, '%d-%m-%y')
                elif '.' in match.group(0):  # dd.mm.yyyy or yyyy.mm.dd
                    date_str = match.group(0)
                    if len(date_str) == 10:  # dd.mm.yyyy
                        date_obj = datetime.datetime.strptime(date_str, '%d.%m.%Y')
                    elif len(date_str) == 8:  # dd.mm.yy
                        date_obj = datetime.datetime.strptime(date_str, '%d.%m.%y')
                else:  # Textual format
                    if len(match.groups()) == 3:  # e.g., 5th March 2023 or March 5, 2023
                        day, month_str, year = match.groups()
                        month_str = month_str.capitalize()  # Ensure month names are properly capitalized
                        if len(month_str) == 3:  # Short month abbreviation
                            month = datetime.datetime.strptime(month_str, '%b').strftime('%m')
                        else:  # Full month name
                            month = datetime.datetime.strptime(month_str, '%B').strftime('%m')
                        date_str = f"{day.zfill(2)}/{month}/{year}"
                        date_obj = datetime.datetime.strptime(date_str, '%d/%m/%Y')
                    elif len(match.groups()) == 2:  # e.g., 25 Dec 2024
                        day, month_str, year = match.groups()
                        month_str = month_str.capitalize()  # Ensure month names are properly capitalized
                        if len(month_str) == 3:  # Short month abbreviation
                            month = datetime.datetime.strptime(month_str, '%b').strftime('%m')
                        else:  # Full month name
                            month = datetime.datetime.strptime(month_str, '%B').strftime('%m')
                        date_str = f"{day.zfill(2)}/{month}/{year}"
                        date_obj = datetime.datetime.strptime(date_str, '%d/%m/%Y')
                    else:
                        continue  # Continue to next pattern if current one fails

                return date_obj.strftime('%d/%m/%Y')
            except ValueError:
                continue  # Handle invalid date formats

    return None  # No date found

# Example usage
sentences = [
    "The deadline is 01-01-2023.",
    "Christmas is on 25th Dec 2024.",
    "We met on May 30th, 2022.",
    "The deadline is 2020-02-28.",
    "The event will take place on March 5, 2023.",
    "1st of January 2000",
]

for sentence in sentences:
    print(extract_and_format_date(sentence))
